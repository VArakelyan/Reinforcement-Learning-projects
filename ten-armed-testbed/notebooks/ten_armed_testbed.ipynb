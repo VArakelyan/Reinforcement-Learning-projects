{
 "cells": [
  {
   "metadata": {},
   "cell_type": "markdown",
   "source": "# 10-armed Testbed",
   "id": "59499080cf853555"
  },
  {
   "metadata": {
    "ExecuteTime": {
     "end_time": "2025-03-10T09:59:35.485964Z",
     "start_time": "2025-03-10T09:59:35.257498Z"
    }
   },
   "cell_type": "code",
   "source": [
    "import numpy as np\n",
    "from tqdm import trange\n",
    "import matplotlib\n",
    "import matplotlib.pyplot as plt\n",
    "from src.bandit import Bandit\n",
    "matplotlib.use('Agg')"
   ],
   "id": "d2c45ba4228ab98d",
   "outputs": [],
   "execution_count": 2
  },
  {
   "metadata": {
    "ExecuteTime": {
     "end_time": "2025-03-10T09:59:35.972816Z",
     "start_time": "2025-03-10T09:59:35.967316Z"
    }
   },
   "cell_type": "code",
   "source": [
    "def simulate(runs, times, bandits):\n",
    "    # region Summary\n",
    "    \"\"\"\n",
    "    For any learning method, we can measure its performance and behavior as it improves with experience over 1000 time steps \n",
    "    when applied to 1 of the bandit problems. This makes up 1 run. Repeating this for 2000 independent runs, each with a different \n",
    "    bandit problem, we obtained measures of the learning algorithm’s average behavior.\n",
    "    :param runs: Number of runs\n",
    "    :param times: Number of times\n",
    "    :param bandits: Bandit problems\n",
    "    :return: Optimal action count mean and reward mean\n",
    "    \"\"\"\n",
    "    # endregion Summary\n",
    "    \n",
    "    # region Body\n",
    "    \n",
    "    # Prepare a matrix filled with 0s for rewards\n",
    "    \n",
    "    rewards = np.zeros((len(bandits), runs, times))\n",
    "    # Prepare a matrix filled with 0s for optimal action counts that has the same shape as rewards matrix\n",
    "    optimal_action_counts = np.zeros(rewards.shape)\n",
    "\n",
    "    # For every bandit\n",
    "    for i, bandit in enumerate(bandits):\n",
    "        # for every run\n",
    "        for run in trange(runs):\n",
    "\n",
    "        \n",
    "            # initialize bandit\n",
    "            bandit.initialize()\n",
    "            \n",
    "            # for every time step\n",
    "            for time in range(times):\n",
    "                # select an action\n",
    "                action = bandit.act()\n",
    "                \n",
    "                \n",
    "                # get the reward\n",
    "                rewards[i,run,time] = bandit.step(action)\n",
    "                \n",
    "                \n",
    "                # if the selected action is optimal for bandit\n",
    "                if action == bandit.optimal_action:\n",
    "                    optimal_action_counts[i,run,time] = 1\n",
    "                    # change the corresponding 0 in the optimal action counts matrix to 1\n",
    "                    \n",
    "\n",
    "    return optimal_action_counts.mean(axis=1), rewards.mean(axis=1)\n",
    "\n",
    "    # endregion Body"
   ],
   "id": "a9f7140e85057a65",
   "outputs": [],
   "execution_count": 3
  },
  {
   "metadata": {},
   "cell_type": "markdown",
   "source": "## 1. Reward Distribution",
   "id": "d8c47990e4d88b44"
  },
  {
   "metadata": {
    "ExecuteTime": {
     "end_time": "2025-03-03T07:11:29.380729Z",
     "start_time": "2025-03-03T07:11:29.315560Z"
    }
   },
   "cell_type": "code",
   "source": [
    "# Plot an example reward distribution\n",
    "plt.violinplot(dataset=np.random.randn(200, 10) + np.random.randn(10))\n",
    "plt.title(\"Figure 2.1\")\n",
    "plt.xlabel(\"Action\")\n",
    "plt.ylabel(\"Reward distribution\")\n",
    "plt.savefig(\"../generated_images/figure_2_1.png\")\n",
    "plt.close()"
   ],
   "id": "3035fa998d87e1d1",
   "outputs": [],
   "execution_count": 4
  },
  {
   "metadata": {},
   "cell_type": "markdown",
   "source": "## 2. Greedy Action Selection VS ε-greedy Action Selection",
   "id": "89fa01011b444f55"
  },
  {
   "metadata": {
    "ExecuteTime": {
     "end_time": "2025-03-03T07:11:30.221495Z",
     "start_time": "2025-03-03T07:11:30.219357Z"
    }
   },
   "cell_type": "code",
   "source": [
    "# Create a list of epsilons with 0, 0.1 and 0.01 values\n",
    "epsilons = [0, 0.1, 0.01]\n",
    "\n",
    "# Create a list of bandits (1 bandit for every epsilon) where every bandit uses sample-average method\n",
    "bandits = [Bandit(epsilon = epsilon, use_sample_averages=True) for epsilon in epsilons]"
   ],
   "id": "d38224df5e930ea2",
   "outputs": [],
   "execution_count": 5
  },
  {
   "metadata": {
    "ExecuteTime": {
     "end_time": "2025-03-03T07:11:30.666522Z",
     "start_time": "2025-03-03T07:11:30.662144Z"
    }
   },
   "cell_type": "code",
   "source": "len(bandits)",
   "id": "98904be4c6a9db71",
   "outputs": [
    {
     "data": {
      "text/plain": [
       "3"
      ]
     },
     "execution_count": 6,
     "metadata": {},
     "output_type": "execute_result"
    }
   ],
   "execution_count": 6
  },
  {
   "metadata": {
    "ExecuteTime": {
     "end_time": "2025-03-03T07:12:09.125717Z",
     "start_time": "2025-03-03T07:11:31.211341Z"
    }
   },
   "cell_type": "code",
   "source": [
    "# Define number of runs\n",
    "runs = 2000\n",
    "\n",
    "# Define number of times\n",
    "times = 1000\n",
    "\n",
    "# Simulate optimal action counts and rewards\n",
    "optimal_action_counts, rewards = simulate(runs, times, bandits)"
   ],
   "id": "57f2f2fb8b48431e",
   "outputs": [
    {
     "name": "stderr",
     "output_type": "stream",
     "text": [
      "100%|██████████| 2000/2000 [00:13<00:00, 145.23it/s]\n",
      "100%|██████████| 2000/2000 [00:11<00:00, 179.28it/s]\n",
      "100%|██████████| 2000/2000 [00:12<00:00, 154.23it/s]\n"
     ]
    }
   ],
   "execution_count": 7
  },
  {
   "metadata": {
    "ExecuteTime": {
     "end_time": "2025-03-03T07:12:09.135263Z",
     "start_time": "2025-03-03T07:12:09.132363Z"
    }
   },
   "cell_type": "code",
   "source": [
    "      # Plotting\n",
    "plt.figure(figsize=(10, 20))"
   ],
   "id": "847ef0c53db4f77c",
   "outputs": [
    {
     "data": {
      "text/plain": [
       "<Figure size 1000x2000 with 0 Axes>"
      ]
     },
     "execution_count": 8,
     "metadata": {},
     "output_type": "execute_result"
    }
   ],
   "execution_count": 8
  },
  {
   "metadata": {
    "ExecuteTime": {
     "end_time": "2025-03-03T07:12:18.919818Z",
     "start_time": "2025-03-03T07:12:18.908729Z"
    }
   },
   "cell_type": "code",
   "source": [
    "plt.subplot(2, 1, 1)\n",
    "for epsilon, rewards in zip(epsilons, rewards):\n",
    "    plt.plot(rewards, label=\"$\\epsilon = %.02f$\" % epsilon)\n",
    "plt.title(\"Figure 2.2\")\n",
    "plt.xlabel(\"Steps\")\n",
    "plt.ylabel(\"Average reward\")\n",
    "plt.legend()"
   ],
   "id": "8a5be57e6d3d9865",
   "outputs": [
    {
     "name": "stderr",
     "output_type": "stream",
     "text": [
      "<>:3: SyntaxWarning: invalid escape sequence '\\e'\n",
      "<>:3: SyntaxWarning: invalid escape sequence '\\e'\n",
      "/var/folders/48/4rdh6mh12_vf1w07wbdrm07r0000gn/T/ipykernel_22866/3118276454.py:3: SyntaxWarning: invalid escape sequence '\\e'\n",
      "  plt.plot(rewards, label=\"$\\epsilon = %.02f$\" % epsilon)\n"
     ]
    },
    {
     "data": {
      "text/plain": [
       "<matplotlib.legend.Legend at 0x1181ac950>"
      ]
     },
     "execution_count": 9,
     "metadata": {},
     "output_type": "execute_result"
    }
   ],
   "execution_count": 9
  },
  {
   "metadata": {
    "ExecuteTime": {
     "end_time": "2025-03-03T07:12:20.526912Z",
     "start_time": "2025-03-03T07:12:20.515962Z"
    }
   },
   "cell_type": "code",
   "source": [
    "plt.subplot(2, 1, 2)\n",
    "for epsilon, counts in zip(epsilons, optimal_action_counts):\n",
    "    plt.plot(counts, label=\"$\\epsilon = %.02f$\" % epsilon)\n",
    "plt.xlabel(\"Steps\")\n",
    "plt.ylabel(\"% Optimal action\")\n",
    "plt.legend()"
   ],
   "id": "f18bdf053986dbfb",
   "outputs": [
    {
     "name": "stderr",
     "output_type": "stream",
     "text": [
      "<>:3: SyntaxWarning: invalid escape sequence '\\e'\n",
      "<>:3: SyntaxWarning: invalid escape sequence '\\e'\n",
      "/var/folders/48/4rdh6mh12_vf1w07wbdrm07r0000gn/T/ipykernel_22866/907484656.py:3: SyntaxWarning: invalid escape sequence '\\e'\n",
      "  plt.plot(counts, label=\"$\\epsilon = %.02f$\" % epsilon)\n"
     ]
    },
    {
     "data": {
      "text/plain": [
       "<matplotlib.legend.Legend at 0x1181c4fb0>"
      ]
     },
     "execution_count": 10,
     "metadata": {},
     "output_type": "execute_result"
    }
   ],
   "execution_count": 10
  },
  {
   "metadata": {
    "ExecuteTime": {
     "end_time": "2025-03-03T07:12:21.274653Z",
     "start_time": "2025-03-03T07:12:21.132006Z"
    }
   },
   "cell_type": "code",
   "source": [
    "plt.savefig(\"../generated_images/figure_2_2.png\")\n",
    "plt.close()"
   ],
   "id": "3280dfe522be8959",
   "outputs": [],
   "execution_count": 11
  },
  {
   "metadata": {},
   "cell_type": "markdown",
   "source": "## 3. Optimistic Initial Values VS Realistic Initial Values",
   "id": "25287a3f39f1e558"
  },
  {
   "metadata": {
    "ExecuteTime": {
     "end_time": "2025-03-03T14:05:29.374627Z",
     "start_time": "2025-03-03T14:05:29.371634Z"
    }
   },
   "cell_type": "code",
   "source": [
    "# Create a list of 2 bandits where:\n",
    "# 1. 1st bandit: ε = 0, 𝑄_1(𝑎) = 5, 𝛼 = 0.1,\n",
    "# 2. 2nd bandit: ε = 0.1, 𝑄_1(𝑎) = 0, 𝛼 = 0.1\n",
    "bandits = [Bandit(epsilon = 0, initial_action_value_estimates=5, step_size=0.1), Bandit(epsilon = 0.1, initial_action_value_estimates=0, step_size=0.1)]"
   ],
   "id": "223c1430c3aa7c98",
   "outputs": [],
   "execution_count": 3
  },
  {
   "metadata": {
    "ExecuteTime": {
     "end_time": "2025-03-03T14:05:57.162901Z",
     "start_time": "2025-03-03T14:05:32.147216Z"
    }
   },
   "cell_type": "code",
   "source": [
    "# Define number of runs\n",
    "runs = 2000\n",
    "\n",
    "# Define number of times/*\n",
    "times = 1000\n",
    "\n",
    "# Simulate optimal action counts\n",
    "optimal_action_counts, _ = simulate(runs, times, bandits)"
   ],
   "id": "c4de6af021c5c455",
   "outputs": [
    {
     "name": "stderr",
     "output_type": "stream",
     "text": [
      "100%|██████████| 2000/2000 [00:13<00:00, 144.19it/s]\n",
      "100%|██████████| 2000/2000 [00:11<00:00, 179.72it/s]\n"
     ]
    }
   ],
   "execution_count": 4
  },
  {
   "metadata": {
    "ExecuteTime": {
     "end_time": "2025-03-03T14:05:59.083037Z",
     "start_time": "2025-03-03T14:05:59.019145Z"
    }
   },
   "cell_type": "code",
   "source": [
    "# Plotting\n",
    "plt.plot(optimal_action_counts[0], label = '$\\epsilon = 0, Q1 = 5')\n",
    "plt.plot(optimal_action_counts[1], label = '$\\epsilon = 0, Q1 = 0')\n",
    "plt.title(\"Figure 2.3\")\n",
    "plt.xlabel(\"Steps\")\n",
    "plt.ylabel(\"%\\Optimal action\")\n",
    "plt.legend()\n",
    "plt.savefig(\"../generated_images/figure_2_3.png\")\n",
    "plt.close()"
   ],
   "id": "7f6100331c34b985",
   "outputs": [
    {
     "name": "stderr",
     "output_type": "stream",
     "text": [
      "<>:2: SyntaxWarning: invalid escape sequence '\\e'\n",
      "<>:3: SyntaxWarning: invalid escape sequence '\\e'\n",
      "<>:6: SyntaxWarning: invalid escape sequence '\\O'\n",
      "<>:2: SyntaxWarning: invalid escape sequence '\\e'\n",
      "<>:3: SyntaxWarning: invalid escape sequence '\\e'\n",
      "<>:6: SyntaxWarning: invalid escape sequence '\\O'\n",
      "/var/folders/48/4rdh6mh12_vf1w07wbdrm07r0000gn/T/ipykernel_24089/3323059913.py:2: SyntaxWarning: invalid escape sequence '\\e'\n",
      "  plt.plot(optimal_action_counts[0], label = '$\\epsilon = 0, Q1 = 5')\n",
      "/var/folders/48/4rdh6mh12_vf1w07wbdrm07r0000gn/T/ipykernel_24089/3323059913.py:3: SyntaxWarning: invalid escape sequence '\\e'\n",
      "  plt.plot(optimal_action_counts[1], label = '$\\epsilon = 0, Q1 = 0')\n",
      "/var/folders/48/4rdh6mh12_vf1w07wbdrm07r0000gn/T/ipykernel_24089/3323059913.py:6: SyntaxWarning: invalid escape sequence '\\O'\n",
      "  plt.ylabel(\"%\\Optimal action\")\n"
     ]
    }
   ],
   "execution_count": 5
  },
  {
   "metadata": {},
   "cell_type": "markdown",
   "source": "## 4. Upper-Confidence-Bound (UCB) Action Selection",
   "id": "e8078313117defa1"
  },
  {
   "metadata": {
    "ExecuteTime": {
     "end_time": "2025-03-10T09:37:31.151364Z",
     "start_time": "2025-03-10T09:37:31.148393Z"
    }
   },
   "cell_type": "code",
   "source": [
    "# Create a list of 2 bandits where:\n",
    "# 1. 1st bandit: ε = 0, 𝑐 = 2, uses sample-average method,\n",
    "# 2. 2nd bandit: ε = 0.1, uses sample-average method\n",
    "bandits = [Bandit(epsilon=0, confidence_level=2, use_sample_averages=True),\n",
    "           Bandit(epsilon=0.1,  use_sample_averages=True)]"
   ],
   "id": "243db20fcaff40f1",
   "outputs": [],
   "execution_count": 3
  },
  {
   "metadata": {
    "ExecuteTime": {
     "end_time": "2025-03-10T09:38:02.222637Z",
     "start_time": "2025-03-10T09:37:31.670815Z"
    }
   },
   "cell_type": "code",
   "source": [
    "# Define number of runs\n",
    "\n",
    "runs = 2000\n",
    "# Define number of times\n",
    "times = 1000\n",
    "\n",
    "# Simulate average rewards\n",
    "_ , average_rewards = simulate(runs, times, bandits)"
   ],
   "id": "9ba8764de9f2470a",
   "outputs": [
    {
     "name": "stderr",
     "output_type": "stream",
     "text": [
      "100%|██████████| 2000/2000 [00:19<00:00, 104.73it/s]\n",
      "100%|██████████| 2000/2000 [00:11<00:00, 174.91it/s]\n"
     ]
    }
   ],
   "execution_count": 4
  },
  {
   "metadata": {
    "ExecuteTime": {
     "end_time": "2025-03-10T09:38:04.775469Z",
     "start_time": "2025-03-10T09:38:04.652964Z"
    }
   },
   "cell_type": "code",
   "source": [
    "# Plotting\n",
    "plt.plot(average_rewards[0], label='UCB $c = 2$')\n",
    "plt.plot(average_rewards[1], label='epsilon greedy $\\epsilon = 0.1$')\n",
    "plt.title(\"Figure 2.4\")\n",
    "plt.xlabel(\"Steps\")\n",
    "plt.ylabel(\"Average reward\")\n",
    "plt.legend()\n",
    "plt.savefig(\"../generated_images/figure_2_4.png\")\n",
    "plt.close()"
   ],
   "id": "c00bbd0d71cca2cd",
   "outputs": [
    {
     "name": "stderr",
     "output_type": "stream",
     "text": [
      "<>:3: SyntaxWarning: invalid escape sequence '\\e'\n",
      "<>:3: SyntaxWarning: invalid escape sequence '\\e'\n",
      "/var/folders/48/4rdh6mh12_vf1w07wbdrm07r0000gn/T/ipykernel_1728/878533330.py:3: SyntaxWarning: invalid escape sequence '\\e'\n",
      "  plt.plot(average_rewards[1], label='epsilon greedy $\\epsilon = 0.1$')\n"
     ]
    }
   ],
   "execution_count": 5
  },
  {
   "metadata": {},
   "cell_type": "markdown",
   "source": "## 5. Gradient Bandit Algorithms (GBA)",
   "id": "5189e97d9a3bbb1"
  },
  {
   "metadata": {
    "ExecuteTime": {
     "end_time": "2025-03-10T10:05:45.850466Z",
     "start_time": "2025-03-10T10:05:45.846439Z"
    }
   },
   "cell_type": "code",
   "source": [
    "# Create a list of 4 bandits where:\n",
    "# 1. 1st bandit: uses GBA, 𝛼 = 0.1, uses average reward as baseline for GBA, expects true reward of 4,\n",
    "# 2. 2nd bandit: uses GBA, 𝛼 = 0.1, doesn't use average reward as baseline for GBA, expects true reward of 4,\n",
    "# 3. 3rd bandit: uses GBA, 𝛼 = 0.4, uses average reward as baseline for GBA, expects true reward of 4,\n",
    "# 4. 4th bandit: uses GBA, 𝛼 = 0.4, doesn't use average reward as baseline for GBA, expects true reward of 4\n",
    "bandits = [\n",
    "    Bandit(use_gradient=True, step_size=0.1, use_gradient_baseline=True, true_expected_reward=4),\n",
    "    Bandit(use_gradient=True, step_size=0.1, use_gradient_baseline=False, true_expected_reward=4),\n",
    "    Bandit(use_gradient=True, step_size=0.4 ,use_gradient_baseline=True,true_expected_reward=4),\n",
    "    Bandit(use_gradient=True, step_size=0.4, use_gradient_baseline=False,true_expected_reward=4),\n",
    "           ]"
   ],
   "id": "98c9808f12ae8b5a",
   "outputs": [],
   "execution_count": 10
  },
  {
   "metadata": {
    "ExecuteTime": {
     "end_time": "2025-03-10T10:07:14.683194Z",
     "start_time": "2025-03-10T10:05:46.880615Z"
    }
   },
   "cell_type": "code",
   "source": [
    "# Define number of runs\n",
    "runs = 2000\n",
    "\n",
    "# Define number of times\n",
    "times = 1000\n",
    "\n",
    "# Simulate optimal action counts\\\n",
    "optimal_action_counts, _ = simulate(runs, times, bandits)"
   ],
   "id": "b9e31d479578f622",
   "outputs": [
    {
     "name": "stderr",
     "output_type": "stream",
     "text": [
      "100%|██████████| 2000/2000 [00:21<00:00, 92.40it/s]\n",
      "100%|██████████| 2000/2000 [00:21<00:00, 91.21it/s]\n",
      "100%|██████████| 2000/2000 [00:22<00:00, 89.94it/s]\n",
      "100%|██████████| 2000/2000 [00:21<00:00, 91.02it/s]\n"
     ]
    }
   ],
   "execution_count": 11
  },
  {
   "metadata": {
    "ExecuteTime": {
     "end_time": "2025-03-10T10:07:23.951543Z",
     "start_time": "2025-03-10T10:07:23.948932Z"
    }
   },
   "cell_type": "code",
   "source": [
    "# Labels\n",
    "labels = [\n",
    "    r'$\\alpha = 0.1$ with baseline',\n",
    "    r'$\\alpha = 0.1$ without baseline ',\n",
    "    r'$\\alpha = 0.4$ with baseline',\n",
    "    r'$\\alpha = 0.4$ without baseline',\n",
    "]"
   ],
   "id": "cbb03df2132f6b32",
   "outputs": [],
   "execution_count": 12
  },
  {
   "metadata": {
    "ExecuteTime": {
     "end_time": "2025-03-10T10:07:26.489106Z",
     "start_time": "2025-03-10T10:07:26.477707Z"
    }
   },
   "cell_type": "code",
   "source": [
    "# Plotting\n",
    "for i in range(len(bandits)):\n",
    "    plt.plot(optimal_action_counts[i], label=labels[i])"
   ],
   "id": "8653608ae315a037",
   "outputs": [],
   "execution_count": 13
  },
  {
   "metadata": {
    "ExecuteTime": {
     "end_time": "2025-03-10T10:07:27.330242Z",
     "start_time": "2025-03-10T10:07:27.267979Z"
    }
   },
   "cell_type": "code",
   "source": [
    "plt.title(\"Figure 2.5\")\n",
    "plt.xlabel(\"Steps\")\n",
    "plt.ylabel(\"% Optimal action\")\n",
    "plt.legend()\n",
    "plt.savefig(\"../generated_images/figure_2_5.png\")\n",
    "plt.close()"
   ],
   "id": "5504ea567c997714",
   "outputs": [],
   "execution_count": 14
  },
  {
   "metadata": {},
   "cell_type": "code",
   "outputs": [],
   "execution_count": null,
   "source": "",
   "id": "a94a7616a393da02"
  }
 ],
 "metadata": {
  "kernelspec": {
   "name": "python3",
   "language": "python",
   "display_name": "Python 3 (ipykernel)"
  }
 },
 "nbformat": 5,
 "nbformat_minor": 9
}
